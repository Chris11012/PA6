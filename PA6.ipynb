{
 "cells": [
  {
   "cell_type": "markdown",
   "id": "cea6d0ea",
   "metadata": {},
   "source": [
    "# Chris Douglas\n",
    "## Assignment 6\n",
    "### Version 1\n",
    "#### CS-150 spring 2023"
   ]
  },
  {
   "cell_type": "code",
   "execution_count": 1,
   "id": "09b76507",
   "metadata": {},
   "outputs": [
    {
     "name": "stdout",
     "output_type": "stream",
     "text": [
      "Enter the length of side A: 2\n",
      "Enter the length of side B: 3\n",
      "Enter the length of side C: 7\n",
      "The area of the triangle is approximately 14.696938456699069 square units and the perimeter is 12 linear units.\n"
     ]
    }
   ],
   "source": [
    "import math\n",
    "def triArea(a,b,c):\n",
    "    s = (a + b + c) / 2\n",
    "    area = math.sqrt(s * (s - a) * (s - b) * (s - b))\n",
    "    return area\n",
    "def triPerimeter(a,b,c):\n",
    "    return a + b + c\n",
    "a = int(input('Enter the length of side A: '))\n",
    "b = int(input('Enter the length of side B: '))\n",
    "c = int(input('Enter the length of side C: '))\n",
    "\n",
    "area = triArea(a,b,c)\n",
    "perimeter = triPerimeter(a,b,c)\n",
    "\n",
    "print(f'The area of the triangle is approximately {area} square units and the perimeter is {perimeter} linear units.')"
   ]
  },
  {
   "cell_type": "code",
   "execution_count": 2,
   "id": "878c1843",
   "metadata": {},
   "outputs": [
    {
     "name": "stdout",
     "output_type": "stream",
     "text": [
      "337\n",
      "Guess a number 1-1000: 500\n",
      "Too high! Guess again\n",
      "Guess a number 1-1000: 300\n",
      "Too low! Guess again\n",
      "Guess a number 1-1000: 400\n",
      "Too high! Guess again\n",
      "Guess a number 1-1000: 350\n",
      "Too high! Guess again\n",
      "Guess a number 1-1000: 340\n",
      "Too high! Guess again\n",
      "Guess a number 1-1000: 330\n",
      "Too low! Guess again\n",
      "Guess a number 1-1000: 333\n",
      "Too low! Guess again\n",
      "Guess a number 1-1000: 335\n",
      "Too low! Guess again\n",
      "Guess a number 1-1000: 337\n",
      "You guessed it in 9 tries\n"
     ]
    }
   ],
   "source": [
    "import random as rd\n",
    "\n",
    "\n",
    "def evaluateGuess():\n",
    "    ran = rd.randrange(1,1000)\n",
    "    guessing = True\n",
    "    count = 0\n",
    "    print(ran)\n",
    "    while guessing:\n",
    "        guess = int(input('Guess a number 1-1000: '))\n",
    "        if guess > ran:\n",
    "            print('Too high! Guess again')\n",
    "        elif guess < ran:\n",
    "            print('Too low! Guess again')\n",
    "        elif guess == ran:\n",
    "            count += 1\n",
    "            print(f'You guessed it in {count} tries')\n",
    "            guessing = False\n",
    "        count += 1\n",
    "evaluateGuess()\n",
    "    "
   ]
  },
  {
   "cell_type": "code",
   "execution_count": 3,
   "id": "f75827a9",
   "metadata": {},
   "outputs": [
    {
     "name": "stdout",
     "output_type": "stream",
     "text": [
      "The mean temperature for the past 7 days is 80.0 degrees.\n",
      "The mean temperature for the past 3 days is 91.0 degrees.\n",
      "The mean temperature for the past 5 days is 85.4 degrees.\n"
     ]
    }
   ],
   "source": [
    "def meanTemp(*args):\n",
    "    print(f'The mean temperature for the past {len(args)} days is {sum(args)/len(args)} degrees.')\n",
    "temp = [70,63,74,80,90,89,94]\n",
    "\n",
    "meanTemp(*temp)\n",
    "meanTemp(*temp[4:])\n",
    "meanTemp(*temp[2:])"
   ]
  }
 ],
 "metadata": {
  "kernelspec": {
   "display_name": "Python 3 (ipykernel)",
   "language": "python",
   "name": "python3"
  },
  "language_info": {
   "codemirror_mode": {
    "name": "ipython",
    "version": 3
   },
   "file_extension": ".py",
   "mimetype": "text/x-python",
   "name": "python",
   "nbconvert_exporter": "python",
   "pygments_lexer": "ipython3",
   "version": "3.9.13"
  }
 },
 "nbformat": 4,
 "nbformat_minor": 5
}
